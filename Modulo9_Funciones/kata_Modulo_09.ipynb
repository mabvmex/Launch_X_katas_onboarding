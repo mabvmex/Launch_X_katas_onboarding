{
 "cells": [
  {
   "cell_type": "markdown",
   "metadata": {},
   "source": [
    "# Kata del módulo 09 - Funciones\n",
    "#### Por: Miguel Barrera / launchx04647@innovaccion.mx / ID: 4998"
   ]
  },
  {
   "cell_type": "markdown",
   "metadata": {},
   "source": [
    "## Ejercicio 1: Uso de funciones en Python"
   ]
  },
  {
   "cell_type": "code",
   "execution_count": 58,
   "metadata": {},
   "outputs": [],
   "source": [
    "# Función para leer 3 tanques de combustible y muestre el promedio\n",
    "def tanquesCombustible(tanque1, tanque2, tanque3):\n",
    "  averageGas = (tanque1 + tanque2 + tanque3) / 3\n",
    "  print ('El combustible Total promedio es de:', averageGas, ' \\nEl combustible del tanque 1 es de:', tanque1, '\\nEl combustible del tanque 2 es de:', tanque2, '\\nEl combustible del tanque 3 es de:', tanque3,)"
   ]
  },
  {
   "cell_type": "code",
   "execution_count": 62,
   "metadata": {},
   "outputs": [
    {
     "name": "stdout",
     "output_type": "stream",
     "text": [
      "El combustible Total promedio es de: 45.0  \n",
      "El combustible del tanque 1 es de: 20 \n",
      "El combustible del tanque 2 es de: 15 \n",
      "El combustible del tanque 3 es de: 100\n",
      "None\n"
     ]
    }
   ],
   "source": [
    "# Llamamos a la función que genera el reporte print(funcion(tanque1, tanque2, tanque3))\n",
    "print(tanquesCombustible(20,15,100))"
   ]
  },
  {
   "cell_type": "code",
   "execution_count": 63,
   "metadata": {},
   "outputs": [
    {
     "data": {
      "text/plain": [
       "45.0"
      ]
     },
     "execution_count": 63,
     "metadata": {},
     "output_type": "execute_result"
    }
   ],
   "source": [
    "# Función promedio \n",
    "def promedio(gas):\n",
    "    total = sum(gas)\n",
    "    totalDeTanques = len(gas)\n",
    "    return total / totalDeTanques\n",
    "\n",
    "promedio([20, 15, 100]) "
   ]
  },
  {
   "cell_type": "code",
   "execution_count": 67,
   "metadata": {},
   "outputs": [
    {
     "name": "stdout",
     "output_type": "stream",
     "text": [
      "El combustible Total promedio es de: 233.33333333333334  \n",
      "El combustible del tanque 1 es de: 200 \n",
      "El combustible del tanque 2 es de: 100 \n",
      "El combustible del tanque 3 es de: 400\n",
      "None\n"
     ]
    }
   ],
   "source": [
    "# Actualiza la función\n",
    "def tanquesCombustible(tanque1, tanque2, tanque3):\n",
    "  print ('El combustible Total promedio es de:', ((tanque1 + tanque2 + tanque3) /3), ' \\nEl combustible del tanque 1 es de:', tanque1, '\\nEl combustible del tanque 2 es de:', tanque2, '\\nEl combustible del tanque 3 es de:', tanque3,)\n",
    "\n",
    "print(tanquesCombustible(200, 100, 400))"
   ]
  },
  {
   "cell_type": "markdown",
   "metadata": {},
   "source": [
    "## Ejercicio 2: Trabajo con argumentos de la palabra clave"
   ]
  },
  {
   "cell_type": "code",
   "execution_count": 73,
   "metadata": {},
   "outputs": [
    {
     "name": "stdout",
     "output_type": "stream",
     "text": [
      "El destino es: Marte \n",
      "Tiempo de vuelo: 30 \n",
      "Total de combustible: 1300\n",
      "None\n"
     ]
    }
   ],
   "source": [
    "# Función con un informe preciso de la misión. Considera hora de prelanzamiento, tiempo de vuelo, destino, tanque externo y tanque interno\n",
    "\n",
    "def lanzamiento(horaPrelanzamiento, tiempoVuelo, destino, tanqueExterno, tanqueInterno):\n",
    "    print(\"El destino es:\", destino, \"\\nTiempo de vuelo:\", (horaPrelanzamiento + tiempoVuelo), \"\\nTotal de combustible:\", (tanqueExterno + tanqueInterno))\n",
    "\n",
    "print(lanzamiento(10, 20, \"Marte\", 500, 800))"
   ]
  },
  {
   "cell_type": "code",
   "execution_count": 78,
   "metadata": {},
   "outputs": [
    {
     "name": "stdout",
     "output_type": "stream",
     "text": [
      "El destino es: Marte El tiempo de vuelo total es (en min): 60 \n",
      "La reserva de combustible es: 1300\n",
      "None\n"
     ]
    }
   ],
   "source": [
    "# Escribe tu nueva función de reporte considerando lo anterior\n",
    "\n",
    "def reporte(destino, *minutes, **fuel_reservoirs):\n",
    "    print(\"El destino es:\", destino, \"El tiempo de vuelo total es (en min):\", (sum(minutes)), \"\\nLa reserva de combustible es:\", (sum(fuel_reservoirs.values() ) ))\n",
    "\n",
    "print(reporte(\"Marte\", 10, 20, 30, tanqueInterno=500, tanqueExterno=800))"
   ]
  },
  {
   "cell_type": "code",
   "execution_count": 79,
   "metadata": {},
   "outputs": [
    {
     "name": "stdout",
     "output_type": "stream",
     "text": [
      "\n",
      "    Mission to Moon\n",
      "    Total travel time: 74 minutes\n",
      "    Total fuel left: 500000\n",
      "    main tank --> 300000 gallons left\n",
      "external tank --> 200000 gallons left\n",
      "\n"
     ]
    }
   ],
   "source": [
    "# Escribe tu nueva función\n",
    "\n",
    "def reporte_2(destino, *minutes, **fuel_reservoirs):\n",
    "    main_report = f\"\"\"\n",
    "    Mission to {destino}\n",
    "    Total travel time: {sum(minutes)} minutes\n",
    "    Total fuel left: {sum(fuel_reservoirs.values())}\n",
    "    \"\"\"\n",
    "    for tank_name, gallons in fuel_reservoirs.items():\n",
    "        main_report += f\"{tank_name} tank --> {gallons} gallons left\\n\"\n",
    "    return main_report\n",
    "\n",
    "print(reporte_2(\"Moon\", 8, 11, 55, main=300000, external=200000))"
   ]
  }
 ],
 "metadata": {
  "interpreter": {
   "hash": "aee8b7b246df8f9039afb4144a1f6fd8d2ca17a180786b69acc140d282b71a49"
  },
  "kernelspec": {
   "display_name": "Python 3.10.2 64-bit",
   "language": "python",
   "name": "python3"
  },
  "language_info": {
   "codemirror_mode": {
    "name": "ipython",
    "version": 3
   },
   "file_extension": ".py",
   "mimetype": "text/x-python",
   "name": "python",
   "nbconvert_exporter": "python",
   "pygments_lexer": "ipython3",
   "version": "3.10.2"
  },
  "orig_nbformat": 4
 },
 "nbformat": 4,
 "nbformat_minor": 2
}
