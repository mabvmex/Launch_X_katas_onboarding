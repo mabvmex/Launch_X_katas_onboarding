{
 "cells": [
  {
   "cell_type": "markdown",
   "metadata": {},
   "source": [
    "# Kata del módulo 03 - Crear y administrar proyectos\n",
    "#### Por: Miguel Barrera / launchx04647@innovaccion.mx / ID: 4998"
   ]
  },
  {
   "cell_type": "markdown",
   "metadata": {},
   "source": [
    "## Ejercicio 1: if, else y elif"
   ]
  },
  {
   "cell_type": "code",
   "execution_count": null,
   "metadata": {},
   "outputs": [],
   "source": [
    "# \n",
    "\n",
    "velocidad_Advertencia = 25\n",
    "velocidad_Asteroide = 49\n",
    "\n",
    "if velocidad_Asteroide > velocidad_Advertencia:\n",
    "  print(\"ADEVERTENCIA: Un asteroide se acerca demasiado rápido a la tierra \")\n",
    "  print(\"La velocidad del asteroide detectado es de: \" + str(velocidad_Asteroide), \"km/s\")\n",
    "else:\n",
    "  print(\"No hay peligro\")"
   ]
  },
  {
   "cell_type": "markdown",
   "metadata": {},
   "source": [
    "## Ejercicio 2: if, else y elif"
   ]
  },
  {
   "cell_type": "code",
   "execution_count": null,
   "metadata": {},
   "outputs": [],
   "source": [
    "velocidad_Asteroide = 19\n",
    "velocidad_Advertencia = 20\n",
    "\n",
    "if velocidad_Asteroide > velocidad_Advertencia:\n",
    "  print(\"ATENCIÓN: Busca la luz del asteroide que entra a la atmosfera\")\n",
    "\n",
    "elif velocidad_Asteroide == velocidad_Advertencia:\n",
    "  print(\"Un asteride entra y el cielo brilla\")\n",
    "\n",
    "else:\n",
    "  print(\"El cielo está despejado\")"
   ]
  },
  {
   "cell_type": "markdown",
   "metadata": {},
   "source": [
    "## Ejercicio 3: Uso de operadores and y or"
   ]
  },
  {
   "cell_type": "code",
   "execution_count": null,
   "metadata": {},
   "outputs": [],
   "source": [
    "velocidad_Asteroide = 2\n",
    "velocidad_Advertencia = 20\n",
    "dimension = 4\n",
    "\n",
    "if dimension > 25 and velocidad_Asteroide > velocidad_Advertencia:\n",
    "  print (\"ATENCIÓN: Un asteroide se aproxima Y es peligroso... Habrá daño\")\n",
    "\n",
    "elif velocidad_Asteroide >= velocidad_Advertencia:\n",
    "  print (\"Brillo en el cielo, un asteroide\")\n",
    "\n",
    "elif dimension < 25:\n",
    "  print(\"Todo bien!\")\n",
    "else:\n",
    "  print (\"No hay peligro\")\n"
   ]
  }
 ],
 "metadata": {
  "interpreter": {
   "hash": "aee8b7b246df8f9039afb4144a1f6fd8d2ca17a180786b69acc140d282b71a49"
  },
  "kernelspec": {
   "display_name": "Python 3.10.2 64-bit",
   "language": "python",
   "name": "python3"
  },
  "language_info": {
   "codemirror_mode": {
    "name": "ipython",
    "version": 3
   },
   "file_extension": ".py",
   "mimetype": "text/x-python",
   "name": "python",
   "nbconvert_exporter": "python",
   "pygments_lexer": "ipython3",
   "version": "3.10.2"
  },
  "orig_nbformat": 4
 },
 "nbformat": 4,
 "nbformat_minor": 2
}
