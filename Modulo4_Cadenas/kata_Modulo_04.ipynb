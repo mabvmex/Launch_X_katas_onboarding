{
 "cells": [
  {
   "cell_type": "markdown",
   "metadata": {},
   "source": [
    "# Kata del módulo 04 - Cadenas\n",
    "#### Por: Miguel Barrera / launchx04647@innovaccion.mx / ID: 4998"
   ]
  },
  {
   "cell_type": "markdown",
   "metadata": {},
   "source": [
    "## Ejercicio 1: Transformar cadenas"
   ]
  },
  {
   "cell_type": "code",
   "execution_count": null,
   "metadata": {},
   "outputs": [],
   "source": [
    "# Primero, divide el texto en cada oración para trabajar con su contenido.\n",
    "\n",
    "text = \"\"\"Interesting facts about the Moon. The Moon is Earth's only satellite. There are several interesting facts about the Moon and how it affects life here on Earth. \n",
    "On average, the Moon moves 4cm away from the Earth every year. This yearly drift is not significant enough to cause immediate effects on Earth. The highest daylight temperature of the Moon is 127 C.\"\"\"\n",
    "\n",
    "textDivided = text.split('.')\n",
    "textDivided"
   ]
  },
  {
   "cell_type": "code",
   "execution_count": null,
   "metadata": {},
   "outputs": [],
   "source": [
    "# Define las palabras pista: average, temperature y distance suenan bien\n",
    "  # Define palabras clave para búsqueda... si una oración contiene un hecho.\n",
    "\n",
    "hints = [\"average\", \"temperature\", \"distance\"]\n",
    "print(hints)"
   ]
  },
  {
   "cell_type": "code",
   "execution_count": null,
   "metadata": {},
   "outputs": [],
   "source": [
    "# Ciclo for para recorrer la cadena.\n",
    "# Imprime datos sobre la luna y las palabras clave.\n",
    "\n",
    "# no me salió sin ayuda :(\n",
    "\n",
    "for item in textDivided:\n",
    "  for hint in hints:\n",
    "    if  (hint in item):\n",
    "      print(item)"
   ]
  },
  {
   "cell_type": "code",
   "execution_count": null,
   "metadata": {},
   "outputs": [],
   "source": [
    "# Cliclo for para cambiar C a celsius\n",
    "\n",
    "textLower = text.lower()\n",
    "texto = textLower.split('. ')\n",
    "\n",
    "for item in texto:\n",
    "  if(item.endswith('c.')):\n",
    "    grados = item.replace('c.', 'Celsius')\n",
    "    print(grados)"
   ]
  },
  {
   "cell_type": "markdown",
   "metadata": {},
   "source": [
    "## Ejercicio 2: Formateando Cadenas"
   ]
  },
  {
   "cell_type": "code",
   "execution_count": null,
   "metadata": {},
   "outputs": [],
   "source": [
    "# Datos con los que vas a trabajar\n",
    "name = \"Moon\"\n",
    "gravity = 0.00162 # in kms\n",
    "planet = \"Earth\"\n",
    "\n",
    "\n",
    "gravity_MS2 = gravity*1000\n",
    "titulo1 = \"%s facts of the %s and the %s\" % ('gravity', planet, name)\n",
    "titulo2 = \"%s: %s \\n%s: %s m/s2 \\n%s: %s\" % ('name', name, 'gravity', gravity_MS2, 'planet', planet)\n",
    "\n",
    "print(titulo1.title() +'\\n-------------\\n' + titulo2.title())"
   ]
  },
  {
   "cell_type": "code",
   "execution_count": null,
   "metadata": {},
   "outputs": [],
   "source": [
    "planeta = 'Marte '\n",
    "gravedad  = 0.00143\n",
    "nombre = 'Ganímedes'\n",
    "\n",
    "# nombre = \"Luna\"\n",
    "# gravedad = 0.00162 # in kms\n",
    "# planeta = \"Tierra\"\n",
    "\n",
    "gravedad_MS2 = gravedad*1000\n",
    "\n",
    "\n",
    "titulo1 = \"%s facts of the %s and the %s\" % ('gravedad', planeta, nombre)\n",
    "titulo2 = \"%s: %s \\n%s: %s m/s2 \\n%s: %s\" % ('nombre', nombre, 'gravedad', gravedad_MS2, 'planeta', planeta)\n",
    "\n",
    "new_Titulo2 = \"{4}: {5} \\n{2}: {3} m/s2 \\n{0}: {1}\" .format('nombre', nombre, 'gravedad', gravedad_MS2, 'planeta', planeta)\n",
    "print(titulo1.title() +'\\n-------------\\n' + new_Titulo2.title())\n",
    "\n"
   ]
  }
 ],
 "metadata": {
  "interpreter": {
   "hash": "aee8b7b246df8f9039afb4144a1f6fd8d2ca17a180786b69acc140d282b71a49"
  },
  "kernelspec": {
   "display_name": "Python 3.10.2 64-bit",
   "language": "python",
   "name": "python3"
  },
  "language_info": {
   "codemirror_mode": {
    "name": "ipython",
    "version": 3
   },
   "file_extension": ".py",
   "mimetype": "text/x-python",
   "name": "python",
   "nbconvert_exporter": "python",
   "pygments_lexer": "ipython3",
   "version": "3.10.2"
  },
  "orig_nbformat": 4
 },
 "nbformat": 4,
 "nbformat_minor": 2
}
