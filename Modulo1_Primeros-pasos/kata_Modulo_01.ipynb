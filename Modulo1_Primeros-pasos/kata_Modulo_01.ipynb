{
 "cells": [
  {
   "cell_type": "markdown",
   "metadata": {},
   "source": [
    "# Kata del módulo 01 - Primeros Pasos\n",
    "#### Por: Miguel Barrera / launchx04647@innovaccion.mx / ID: 4998"
   ]
  },
  {
   "cell_type": "markdown",
   "metadata": {},
   "source": [
    "## Ejercicio 1: Tu primer programa: La fecha."
   ]
  },
  {
   "cell_type": "code",
   "execution_count": null,
   "metadata": {},
   "outputs": [],
   "source": [
    "\n",
    "# Se importa la biblioteca 'date' \n",
    "# y se imprime la fecha actual usando el método 'date.today()'\n",
    "from datetime import date\n",
    "print(\"La fecha de hoy es: \", str(date.today()));"
   ]
  },
  {
   "cell_type": "markdown",
   "metadata": {},
   "source": [
    "## Ejercicio 2: Construir un convertidor de unidades."
   ]
  },
  {
   "cell_type": "code",
   "execution_count": null,
   "metadata": {},
   "outputs": [],
   "source": [
    "# Se realiza la operación para obtener el resultado\n",
    "# de parcecs a años años luz\n",
    "\n",
    "# tip: 1 parsec = 3.26156 años luz\n",
    "parsec = 11\n",
    "lightyears = 3.26156\n",
    "print(str(parsec) + \" parsec, is \" + str(lightyears * parsec) + \" lightyears\")"
   ]
  }
 ],
 "metadata": {
  "interpreter": {
   "hash": "aee8b7b246df8f9039afb4144a1f6fd8d2ca17a180786b69acc140d282b71a49"
  },
  "kernelspec": {
   "display_name": "Python 3.10.2 64-bit",
   "language": "python",
   "name": "python3"
  },
  "language_info": {
   "codemirror_mode": {
    "name": "ipython",
    "version": 3
   },
   "file_extension": ".py",
   "mimetype": "text/x-python",
   "name": "python",
   "nbconvert_exporter": "python",
   "pygments_lexer": "ipython3",
   "version": "3.10.2"
  },
  "orig_nbformat": 4
 },
 "nbformat": 4,
 "nbformat_minor": 2
}
