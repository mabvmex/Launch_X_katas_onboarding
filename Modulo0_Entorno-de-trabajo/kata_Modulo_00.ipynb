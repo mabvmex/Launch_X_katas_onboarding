{
 "cells": [
  {
   "cell_type": "markdown",
   "metadata": {},
   "source": [
    "# Kata del módulo 00 - Preparación del entorno de trabajo\n",
    "#### Por: Miguel Barrera / launchx04647@innovaccion.mx / ID: 4998"
   ]
  },
  {
   "cell_type": "code",
   "execution_count": null,
   "metadata": {},
   "outputs": [],
   "source": [
    "# Instalación del módulo ipywidgets\n",
    "  # El signo cerrado de exclamación se usa en notebooks de Python\n",
    "  # El signo de porcentaje se usaba en versiones anteriores a la 3.x\n",
    "!pip install ipywidgets"
   ]
  },
  {
   "cell_type": "markdown",
   "metadata": {},
   "source": [
    "## Ejercicio 1: Crea y ejecuta un notebook"
   ]
  },
  {
   "cell_type": "code",
   "execution_count": null,
   "metadata": {},
   "outputs": [],
   "source": [
    "# Se hace el llamado del módulo recién instalado\n",
    "import ipywidgets as widgets\n",
    "\n",
    "# Se declara la variable 'ignition' y se llama la subfunción\n",
    "# .ToggleButton() con sus propiedades para botón.\n",
    "# La función '.ToogleButton() invierte los valores del botón.\n",
    "ignition=widgets.ToggleButton(\n",
    "  value=False,\n",
    "  description='Iniciar Launch',\n",
    "  button_style='success',\n",
    "  tooltip='Engage your launch',\n",
    "  icon='rocket'\n",
    ")\n",
    "\n",
    "# Se declara la variable 'output' y se le asigna la salida \n",
    "# que proporciona la subfunción '.Output()'\n",
    "output = widgets.Output()\n",
    "\n",
    "# Se crea la variable 'display' y se le pasa como parámetros la función \n",
    "# para la creación del botón (ignition) y la salida establecida en la variable 'output'\n",
    "# ???\n",
    "display(ignition, output)\n",
    "\n",
    "\n",
    "# 'def' indica la creación de una función personalizada en Python\n",
    "  # A la función 'on_value_change' se pasa el argumento 'change' como condición de cambio de la misma.\n",
    "def on_value_change(change):\n",
    "\n",
    "  # Se inyecta el contenido de la variable y sus valores 'output'\n",
    "  with output:\n",
    "\n",
    "    # Si se ejecuta un cambio o nuevo evento en el botón, al parámetro 'change' se le asigna el valor boleano TRUE\n",
    "    # y se ejecutan las salidas deseadas, de lo contrario, se envía un mensaje determinado distinto al de la condición.\n",
    "    if change['new'] == True:\n",
    "      print(\"Ignición!... Esperando solicitud...\")\n",
    "      print(\"Autorización otorgada por launchx04647@innovaccion.mx...\")\n",
    "      print(\"Nave Iniciada! - ID de ejecución: 4998\")\n",
    "    else:\n",
    "      print(\" *** Apagando motores... ***\")\n",
    "\n",
    "# Lo anterior sucede porque el comportamiento de la función del botón 'ignition'\n",
    "# esta siendo observado en búsqueda de cambios o actualizaciones y dispara las acciones \n",
    "# por medio de la variable display que interactua con 'ignition' y 'output'\n",
    "# creando a su vez el widget declarado al principio del código.\n",
    "ignition.observe(on_value_change, names='value')"
   ]
  },
  {
   "cell_type": "markdown",
   "metadata": {},
   "source": [
    "## Ejercicio 2: Usar comandos avanzados"
   ]
  },
  {
   "cell_type": "code",
   "execution_count": null,
   "metadata": {},
   "outputs": [],
   "source": [
    "# Instalación de los módulos matplotlib y numpy\n",
    "!pip install matplotlib numpy"
   ]
  },
  {
   "cell_type": "markdown",
   "metadata": {},
   "source": [
    "### Niveles de Oxígeno"
   ]
  },
  {
   "cell_type": "code",
   "execution_count": null,
   "metadata": {},
   "outputs": [],
   "source": [
    "# Se importan las bibliotecas 'numpy' y 'matplotlib'\n",
    "import numpy as np\n",
    "import matplotlib.pyplot as plt\n",
    "\n",
    "# Se declaran las variables 'data' y 'oxy_nums',\n",
    "# se asigna una subfunción derivada de numpy y se le pasan parámetros respectivamente.\n",
    "data = np.random.default_rng(12345)\n",
    "oxy_nums = data.integers(low=0, high=10, size=10)\n",
    "\n",
    "# Se dibuja el gráfico derivado de los valores de las variables.\n",
    "plt.bar(range(len(oxy_nums)), oxy_nums)\n",
    "plt.show()"
   ]
  },
  {
   "cell_type": "markdown",
   "metadata": {},
   "source": [
    "### Velocidad de la nave"
   ]
  },
  {
   "cell_type": "code",
   "execution_count": null,
   "metadata": {},
   "outputs": [],
   "source": [
    "# Se establecen valores de inicio.\n",
    "\n",
    "endVelocity = 11200\n",
    "startVelocity = 0\n",
    "acceleration = 9.8\n",
    "\n",
    "# Se realizan operaciones básicas con variables.\n",
    "time = (endVelocity - startVelocity) / acceleration\n",
    "print(\"Tiempo para alcanzar la velocidad deseada es = \", time)"
   ]
  }
 ],
 "metadata": {
  "interpreter": {
   "hash": "aee8b7b246df8f9039afb4144a1f6fd8d2ca17a180786b69acc140d282b71a49"
  },
  "kernelspec": {
   "display_name": "Python 3.10.2 64-bit",
   "language": "python",
   "name": "python3"
  },
  "language_info": {
   "codemirror_mode": {
    "name": "ipython",
    "version": 3
   },
   "file_extension": ".py",
   "mimetype": "text/x-python",
   "name": "python",
   "nbconvert_exporter": "python",
   "pygments_lexer": "ipython3",
   "version": "3.10.2"
  },
  "orig_nbformat": 4
 },
 "nbformat": 4,
 "nbformat_minor": 2
}
