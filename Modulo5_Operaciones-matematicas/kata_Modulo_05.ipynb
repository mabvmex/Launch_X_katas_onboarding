{
 "cells": [
  {
   "cell_type": "markdown",
   "metadata": {},
   "source": [
    "# Kata del Módulo 05 - Usar operaciones matemáticas\n",
    "#### Por: Miguel Barrera / launchx04647@innovaccion.mx / ID: 4998"
   ]
  },
  {
   "cell_type": "markdown",
   "metadata": {},
   "source": [
    "## Ejercicio 1: Utilizar operadores aritméticos"
   ]
  },
  {
   "cell_type": "code",
   "execution_count": 1,
   "metadata": {},
   "outputs": [
    {
     "name": "stdout",
     "output_type": "stream",
     "text": [
      "149597870\n",
      "778547200\n"
     ]
    }
   ],
   "source": [
    "# Distancia de planetas: Tierra (149.597.870 km) y Júpiter (778.547.200 km).\n",
    "# Nota: Quita las comas cuando uses los valores.\n",
    "\n",
    "distanceEarth = '149.597.870'.split('.')\n",
    "distanceJupyter = '778.547.200'.split('.')\n",
    "mile = 0.621371\n",
    "joinDistance = ''\n",
    "\n",
    "FinalDistance_Earth = joinDistance.join(distanceEarth)\n",
    "FinalDistance_Jupyter = joinDistance.join(distanceJupyter)\n",
    "print(FinalDistance_Earth)\n",
    "print(FinalDistance_Jupyter)"
   ]
  },
  {
   "cell_type": "code",
   "execution_count": 2,
   "metadata": {},
   "outputs": [
    {
     "name": "stdout",
     "output_type": "stream",
     "text": [
      "The distance (in km) between planets is:  628949330 km\n",
      "The distance (in miles) between planets is:  390810874.13143003 miles\n"
     ]
    }
   ],
   "source": [
    "\n",
    "# Restarás el primer planeta del segundo para determinar la distancia en kilómetros. \n",
    "# Puedes convertir la distancia del kilómetro en millas multiplicándola por 1.609344.\n",
    "\n",
    "TotalDistance = int(FinalDistance_Jupyter) - int(FinalDistance_Earth)\n",
    "print('The distance (in km) between planets is: ', TotalDistance, 'km')\n",
    "\n",
    "\n",
    "DistanceInMiles = TotalDistance * mile\n",
    "print('The distance (in miles) between planets is: ', DistanceInMiles, 'miles')"
   ]
  },
  {
   "cell_type": "markdown",
   "metadata": {},
   "source": [
    "## Ejercicio 2: Convierte cadenas en números y entrada de usuario"
   ]
  },
  {
   "cell_type": "code",
   "execution_count": 12,
   "metadata": {},
   "outputs": [
    {
     "name": "stdout",
     "output_type": "stream",
     "text": [
      "778547200\n",
      "149597870\n"
     ]
    }
   ],
   "source": [
    "\n",
    "# Almacena las entradas del usuario\n",
    "valor1 = input('Introduce la distancia del 1er planeta: ')\n",
    "valor2 = input('Introduce la distancia del 2er planeta: ')\n",
    "\n",
    "print(valor1)\n",
    "print(valor2)\n"
   ]
  },
  {
   "cell_type": "code",
   "execution_count": 13,
   "metadata": {},
   "outputs": [
    {
     "name": "stdout",
     "output_type": "stream",
     "text": [
      "778547200\n",
      "149597870\n"
     ]
    }
   ],
   "source": [
    "\n",
    "# Convierte las cadenas de ambos planetas a números enteros\n",
    "valor1 = int(valor1)\n",
    "valor2 = int(valor2)\n",
    "\n",
    "print(valor1)\n",
    "print(valor2)"
   ]
  },
  {
   "cell_type": "code",
   "execution_count": 15,
   "metadata": {},
   "outputs": [
    {
     "name": "stdout",
     "output_type": "stream",
     "text": [
      "--------------------\n",
      "The distance (in km) between planets is:  628949330 km\n",
      "The distance (in miles) between planets is:  390810874 miles\n"
     ]
    }
   ],
   "source": [
    "\n",
    "# Realizar el calculo y determinar el valor absoluto\n",
    "# Convertir de KM a Millas\n",
    "mile = 0.621371\n",
    "\n",
    "print(20*'-')\n",
    "TotalDistance = abs(int(valor1) - int(valor2))\n",
    "print('The distance (in km) between planets is: ', TotalDistance, 'km')\n",
    "DistanceInMiles = abs(TotalDistance * mile)\n",
    "print('The distance (in miles) between planets is: ', int(DistanceInMiles), 'miles')\n",
    "\n",
    "\n"
   ]
  }
 ],
 "metadata": {
  "interpreter": {
   "hash": "aee8b7b246df8f9039afb4144a1f6fd8d2ca17a180786b69acc140d282b71a49"
  },
  "kernelspec": {
   "display_name": "Python 3.10.2 64-bit",
   "language": "python",
   "name": "python3"
  },
  "language_info": {
   "codemirror_mode": {
    "name": "ipython",
    "version": 3
   },
   "file_extension": ".py",
   "mimetype": "text/x-python",
   "name": "python",
   "nbconvert_exporter": "python",
   "pygments_lexer": "ipython3",
   "version": "3.10.2"
  },
  "orig_nbformat": 4
 },
 "nbformat": 4,
 "nbformat_minor": 2
}
